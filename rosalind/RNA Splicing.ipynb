{
 "cells": [
  {
   "cell_type": "markdown",
   "metadata": {},
   "source": [
    "# RNA Splicing\n",
    "在DNA转录形成mRNA的过程中，内含子会被切割掉，剩下的外显子经过**可变剪切**后形成mRNA。\n",
    "\n",
    "![](https://tf-picture-bed-1259792641.cos.ap-beijing.myqcloud.com/blog/2022-05-17-060744.jpg)"
   ]
  },
  {
   "cell_type": "markdown",
   "metadata": {},
   "source": [
    "Problem\n",
    "\n",
    "After identifying the exons and introns of an RNA string, we only need to delete the introns and concatenate the exons to form a new string ready for translation.\n",
    "\n",
    "Given: A DNA string s\n",
    "s\n",
    " (of length at most 1 kbp) and a collection of substrings of s\n",
    "s\n",
    " acting as introns. All strings are given in FASTA format.\n",
    "\n",
    "Return: A protein string resulting from transcribing and translating the exons of s\n",
    "s\n",
    ". (Note: Only one solution will exist for the dataset provided.)"
   ]
  },
  {
   "cell_type": "markdown",
   "metadata": {},
   "source": [
    "给定"
   ]
  },
  {
   "cell_type": "code",
   "execution_count": 49,
   "metadata": {},
   "outputs": [],
   "source": [
    "from Bio import SeqIO\n",
    "import re\n",
    "import Bio\n"
   ]
  },
  {
   "cell_type": "code",
   "execution_count": 55,
   "metadata": {},
   "outputs": [],
   "source": [
    "def RNA_Splicing(gene:Bio.SeqRecord.SeqRecord, introns:list):\n",
    "    \"\"\"\n",
    "    实现RNA剪切\n",
    "    \n",
    "    \"\"\"\n",
    "    # copy the rawseq\n",
    "    for intron in introns:\n",
    "        # check intron in gene indeed!\n",
    "        if intron.seq in gene.seq:\n",
    "            gene.seq = gene.seq.replace(intron.seq, \"\")\n",
    "        else:\n",
    "            print(f\"{intron.id}\")\n",
    "            \n",
    "    \n",
    "    return gene.translate()\n",
    "        \n",
    "    \n",
    "    "
   ]
  },
  {
   "cell_type": "code",
   "execution_count": 70,
   "metadata": {},
   "outputs": [
    {
     "name": "stdout",
     "output_type": "stream",
     "text": [
      "MRLLNSAVAGSQWMPSSTRSPSVIHRHPKGGIIRSRVLGPNYANTLLFKFPLACFTSIDVCRTPGARIGSLLGFTVDRAPIVGTSRFVLAPANSSSKAVKPRTCLGVRLVQAARMGSPRHVGGSGIFIASTISSRAEVPCNLTFRDRVGRSLVLGHVDAPVRVTGTLVLIKFSGCPHLVEERMKQC*\n"
     ]
    }
   ],
   "source": [
    "fileName = \"rosalind_splc.txt\"\n",
    "\n",
    "seqs = list(SeqIO.parse(fileName, \"fasta\"))\n",
    "geneSeq = seqs[0]\n",
    "introns = seqs[1:]\n",
    "\n",
    "\n",
    "\n",
    "protein = RNA_Splicing(geneSeq, introns)\n",
    "print(str(protein.seq))"
   ]
  },
  {
   "cell_type": "code",
   "execution_count": null,
   "metadata": {},
   "outputs": [],
   "source": []
  }
 ],
 "metadata": {
  "kernelspec": {
   "display_name": "RNASeq",
   "language": "python",
   "name": "rnaseq"
  },
  "language_info": {
   "codemirror_mode": {
    "name": "ipython",
    "version": 3
   },
   "file_extension": ".py",
   "mimetype": "text/x-python",
   "name": "python",
   "nbconvert_exporter": "python",
   "pygments_lexer": "ipython3",
   "version": "3.7.10"
  }
 },
 "nbformat": 4,
 "nbformat_minor": 4
}
